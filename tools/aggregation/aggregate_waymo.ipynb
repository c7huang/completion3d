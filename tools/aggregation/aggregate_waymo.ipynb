{
 "cells": [
  {
   "cell_type": "code",
   "execution_count": null,
   "id": "faf84298-ad7f-437b-b48e-aa19058d09ea",
   "metadata": {},
   "outputs": [],
   "source": [
    "%load_ext autoreload\n",
    "%autoreload 2"
   ]
  },
  {
   "cell_type": "code",
   "execution_count": null,
   "id": "ffea847e-4b9d-4007-a4db-b304f8f029e9",
   "metadata": {},
   "outputs": [],
   "source": [
    "import matplotlib.pyplot as plt\n",
    "import seaborn as sns\n",
    "\n",
    "import pickle\n",
    "import numpy as np\n",
    "\n",
    "from aggregate_waymo import (\n",
    "    get_waymo_infos,\n",
    "    aggregate_waymo_sequence,\n",
    "    load_waymo_aggregated_points\n",
    ")"
   ]
  },
  {
   "cell_type": "code",
   "execution_count": null,
   "id": "ad134043-2793-4e90-ae42-f52746ca4a37",
   "metadata": {
    "tags": []
   },
   "outputs": [],
   "source": [
    "dataset_path = '../../data/waymo'\n",
    "output_path = '../../data/waymo_agg'\n",
    "\n",
    "# infos = get_waymo_infos(dataset_path)\n",
    "with open(f'{dataset_path}/kitti_format/waymo_infos_trainval.pkl', 'rb') as f:\n",
    "    infos = {info['image']['image_idx']: info for info in pickle.load(f)}\n",
    "\n",
    "waymo_dataset = dict(\n",
    "    dataset_path=dataset_path,\n",
    "    split='training',\n",
    "    infos=infos\n",
    ")"
   ]
  },
  {
   "cell_type": "code",
   "execution_count": null,
   "id": "8b04090a-7800-42e0-bd4a-caa1faa27143",
   "metadata": {},
   "outputs": [],
   "source": [
    "bg_points, obj_points = aggregate_waymo_sequence(waymo_dataset, 0)\n",
    "bg_points = bg_points[np.random.choice(bg_points.shape[0], size=int(bg_points.shape[0]//64), replace=False)]\n",
    "\n",
    "plt.figure(figsize=(12,12))\n",
    "plt.scatter(-bg_points[:,1], bg_points[:,0], s=1000/bg_points.shape[0], alpha=0.5)\n",
    "plt.show()\n",
    "plt.close()\n",
    "\n",
    "for token, obj_points_i in obj_points.items():\n",
    "    if obj_points_i.shape[0] < 100000:\n",
    "        continue\n",
    "    \n",
    "    # obj_points_i = obj_points_i[np.random.choice(obj_points_i.shape[0], size=int(obj_points_i.shape[0]//32), replace=False)]\n",
    "    lim = np.abs(obj_points_i[:,:3]).max()\n",
    "    \n",
    "    fig = plt.figure(figsize=(12,12))\n",
    "    ax = fig.add_subplot(projection='3d')\n",
    "    ax.scatter(\n",
    "        obj_points_i[:,0], obj_points_i[:,1], obj_points_i[:,2],\n",
    "        c=obj_points_i[:,3],\n",
    "        s=10000/obj_points_i.shape[0], \n",
    "        alpha=0.5\n",
    "    )\n",
    "    ax.set_xlim((-lim, lim))\n",
    "    ax.set_ylim((-lim, lim))\n",
    "    ax.set_zlim((-lim*0.2, lim*1.3))\n",
    "    # plt.title(f'{token} - {category}')\n",
    "    plt.show()\n",
    "    plt.close()\n",
    "    \n",
    "    sns.jointplot(\n",
    "        x=obj_points_i[:,0], y=obj_points_i[:,1],\n",
    "        s=10000/obj_points_i.shape[0]\n",
    "    )\n",
    "    plt.show()\n",
    "    plt.close()"
   ]
  },
  {
   "cell_type": "code",
   "execution_count": null,
   "id": "703df521-e5f3-4ee7-8fd8-6a7b74d99aa0",
   "metadata": {},
   "outputs": [],
   "source": [
    "info = list(infos.values())[100*40-20]\n",
    "bg_points, obj_points = load_waymo_aggregated_points( output_path, info )\n",
    "obj_points_all = np.concatenate(list(obj_points.values()))\n",
    "\n",
    "# Subsample\n",
    "bg_points = bg_points[np.random.choice(bg_points.shape[0], size=int(bg_points.shape[0]//32), replace=False)]\n",
    "obj_points_all = obj_points_all[np.random.choice(obj_points_all.shape[0], size=int(obj_points_all.shape[0]//32), replace=False)]\n",
    "\n",
    "plt.figure(figsize=(12,12))\n",
    "plt.scatter(-bg_points[:,1], bg_points[:,0], s=1000/bg_points.shape[0], alpha=0.5)\n",
    "plt.scatter(-obj_points_all[:,1], obj_points_all[:,0], s=1000/obj_points_all.shape[0], alpha=0.5)\n",
    "plt.show()\n",
    "plt.close()\n",
    "\n",
    "for category, (token, obj_points_i) in zip(info['gt_names'], obj_points.items()):\n",
    "    if obj_points_i.shape[0] < 50000:\n",
    "        continue\n",
    "\n",
    "#     # Number of points in halves\n",
    "#     y = obj_points_i[:,1]\n",
    "#     if np.abs((y > 0).sum() - (y < 0).sum()) / y.shape[0] > 0.3:\n",
    "#         continue\n",
    "    \n",
    "    obj_points_i[:,:3] -= obj_points_i[:,:3].mean(0)\n",
    "    lim = np.abs(obj_points_i[:,:3]).max()\n",
    "    \n",
    "    fig = plt.figure(figsize=(12,12))\n",
    "    ax = fig.add_subplot(projection='3d')\n",
    "    ax.scatter(\n",
    "        obj_points_i[:,0], obj_points_i[:,1], obj_points_i[:,2],\n",
    "        c=obj_points_i[:,3],\n",
    "        s=10000/obj_points_i.shape[0], \n",
    "        alpha=0.5\n",
    "    )\n",
    "    ax.set_xlim((-lim, lim))\n",
    "    ax.set_ylim((-lim, lim))\n",
    "    ax.set_zlim((-lim*0.75, lim*0.75))\n",
    "    plt.title(f'{token} - {category}')\n",
    "    plt.show()\n",
    "    plt.close()\n",
    "    \n",
    "    sns.jointplot(\n",
    "        x=obj_points_i[:,0], y=obj_points_i[:,1],\n",
    "        s=10000/obj_points_i.shape[0]\n",
    "    )\n",
    "    plt.show()\n",
    "    plt.close()"
   ]
  },
  {
   "cell_type": "code",
   "execution_count": null,
   "id": "10da54a4-4875-4bf4-8f47-d3c64ee7da21",
   "metadata": {},
   "outputs": [],
   "source": [
    "!pip install websockets"
   ]
  },
  {
   "cell_type": "code",
   "execution_count": null,
   "id": "f72ef3a7-6122-4af2-9cd7-ceb01dc1b29f",
   "metadata": {},
   "outputs": [],
   "source": [
    "from vis3d import (\n",
    "    Vis3DManager,\n",
    "    PointCloud,\n",
    "    Box\n",
    ")"
   ]
  },
  {
   "cell_type": "code",
   "execution_count": null,
   "id": "c5a14a14-e48a-4d3b-83ae-352d88c749e6",
   "metadata": {},
   "outputs": [],
   "source": [
    "# Starting a vis3d server\n",
    "vis3d = Vis3DManager(port=2114)\n",
    "await vis3d.serve()"
   ]
  },
  {
   "cell_type": "code",
   "execution_count": null,
   "id": "e720cc49-6619-4aa2-b61d-7a057c2f24ea",
   "metadata": {},
   "outputs": [],
   "source": [
    "vis3d.objects = dict()\n",
    "await vis3d.sync()\n",
    "\n",
    "rt_bg = np.log(bg_points[:,3]+1)  # Point cloud intensity (log)\n",
    "rt_bg = rt_bg / rt_bg.max()           # normalize intensity\n",
    "pc_bg = PointCloud(\n",
    "    bg_points[:,:3],                   # Point cloud numpy array: (# of points, 3)\n",
    "    color=plt.get_cmap('viridis')(rt_bg),  # Colors\n",
    "    name='Background'                      # A name\n",
    ")\n",
    "await vis3d.add(pc_bg)                     # Add point cloud to visualizer\n",
    "\n",
    "rt_fg = np.log(obj_points_all[:,3]+1)\n",
    "rt_fg = rt_fg / rt_fg.max()\n",
    "pc_fg = PointCloud(\n",
    "    obj_points_all[:,:3],\n",
    "    color=plt.get_cmap('inferno')(rt_fg),\n",
    "    name='Foreground'\n",
    ")\n",
    "await vis3d.add(pc_fg)\n",
    "\n",
    "# for i, (instance_token, box) in enumerate(boxes[frame_idx].items()):\n",
    "#     instance = nusc.get('instance', instance_token)\n",
    "#     category = nusc.get('category', instance['category_token'])['name']\n",
    "#     box_vis = Box(data=box, color='red', name=f'{category} ({box[0]:.0f},{box[1]:.0f})')\n",
    "#     await vis3d.add(box_vis)          # Add box to visualizer"
   ]
  }
 ],
 "metadata": {
  "kernelspec": {
   "display_name": "Python 3",
   "language": "python",
   "name": "python3"
  },
  "language_info": {
   "codemirror_mode": {
    "name": "ipython",
    "version": 3
   },
   "file_extension": ".py",
   "mimetype": "text/x-python",
   "name": "python",
   "nbconvert_exporter": "python",
   "pygments_lexer": "ipython3",
   "version": "3.8.12"
  }
 },
 "nbformat": 4,
 "nbformat_minor": 5
}
